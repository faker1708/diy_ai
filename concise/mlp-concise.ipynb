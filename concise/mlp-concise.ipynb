{
 "cells": [
  {
   "cell_type": "markdown",
   "id": "62ea813a",
   "metadata": {
    "origin_pos": 0
   },
   "source": [
    "# 多层感知机的简洁实现\n",
    ":label:`sec_mlp_concise`\n",
    "\n",
    "本节将介绍(**通过高级API更简洁地实现多层感知机**)。\n"
   ]
  },
  {
   "cell_type": "code",
   "execution_count": 5,
   "id": "d897e234",
   "metadata": {
    "execution": {
     "iopub.execute_input": "2022-12-07T16:45:26.549674Z",
     "iopub.status.busy": "2022-12-07T16:45:26.549371Z",
     "iopub.status.idle": "2022-12-07T16:45:28.736035Z",
     "shell.execute_reply": "2022-12-07T16:45:28.735214Z"
    },
    "origin_pos": 2,
    "tab": [
     "pytorch"
    ]
   },
   "outputs": [],
   "source": [
    "import torch\n",
    "from torch import nn\n",
    "from d2l import torch as d2l"
   ]
  },
  {
   "cell_type": "markdown",
   "id": "80bffdbb",
   "metadata": {
    "origin_pos": 5
   },
   "source": [
    "## 模型\n",
    "\n",
    "与softmax回归的简洁实现（ :numref:`sec_softmax_concise`）相比，\n",
    "唯一的区别是我们添加了2个全连接层（之前我们只添加了1个全连接层）。\n",
    "第一层是[**隐藏层**]，它(**包含256个隐藏单元，并使用了ReLU激活函数**)。\n",
    "第二层是输出层。\n"
   ]
  },
  {
   "cell_type": "code",
   "execution_count": 6,
   "id": "92f5a821",
   "metadata": {
    "execution": {
     "iopub.execute_input": "2022-12-07T16:45:28.740345Z",
     "iopub.status.busy": "2022-12-07T16:45:28.739782Z",
     "iopub.status.idle": "2022-12-07T16:45:28.773929Z",
     "shell.execute_reply": "2022-12-07T16:45:28.773215Z"
    },
    "origin_pos": 7,
    "tab": [
     "pytorch"
    ]
   },
   "outputs": [],
   "source": [
    "net = nn.Sequential(nn.Flatten(),\n",
    "                    nn.Linear(784, 256),\n",
    "                    nn.ReLU(),\n",
    "                    nn.Linear(256, 10))\n",
    "\n",
    "def init_weights(m):\n",
    "    if type(m) == nn.Linear:\n",
    "        nn.init.normal_(m.weight, std=0.01)\n",
    "\n",
    "net.apply(init_weights);"
   ]
  },
  {
   "cell_type": "markdown",
   "id": "d59e909b",
   "metadata": {
    "origin_pos": 10
   },
   "source": [
    "[**训练过程**]的实现与我们实现softmax回归时完全相同，\n",
    "这种模块化设计使我们能够将与模型架构有关的内容独立出来。\n"
   ]
  },
  {
   "cell_type": "code",
   "execution_count": 7,
   "id": "96d454f3",
   "metadata": {
    "execution": {
     "iopub.execute_input": "2022-12-07T16:45:28.777228Z",
     "iopub.status.busy": "2022-12-07T16:45:28.776799Z",
     "iopub.status.idle": "2022-12-07T16:45:28.781081Z",
     "shell.execute_reply": "2022-12-07T16:45:28.780382Z"
    },
    "origin_pos": 12,
    "tab": [
     "pytorch"
    ]
   },
   "outputs": [],
   "source": [
    "batch_size, lr, num_epochs = 256, 0.1, 10\n",
    "loss = nn.CrossEntropyLoss(reduction='none')\n",
    "trainer = torch.optim.SGD(net.parameters(), lr=lr)"
   ]
  },
  {
   "cell_type": "code",
   "execution_count": 8,
   "id": "b73bb0e0",
   "metadata": {
    "execution": {
     "iopub.execute_input": "2022-12-07T16:45:28.784298Z",
     "iopub.status.busy": "2022-12-07T16:45:28.783871Z",
     "iopub.status.idle": "2022-12-07T16:46:01.223643Z",
     "shell.execute_reply": "2022-12-07T16:46:01.222650Z"
    },
    "origin_pos": 15,
    "tab": [
     "pytorch"
    ]
   },
   "outputs": [
    {
     "ename": "TypeError",
     "evalue": "train_ch3() takes 6 positional arguments but 7 were given",
     "output_type": "error",
     "traceback": [
      "\u001b[1;31m---------------------------------------------------------------------------\u001b[0m",
      "\u001b[1;31mTypeError\u001b[0m                                 Traceback (most recent call last)",
      "Cell \u001b[1;32mIn[8], line 2\u001b[0m\n\u001b[0;32m      1\u001b[0m train_iter, test_iter \u001b[39m=\u001b[39m d2l\u001b[39m.\u001b[39mload_data_fashion_mnist(batch_size)\n\u001b[1;32m----> 2\u001b[0m d2l\u001b[39m.\u001b[39;49mtrain_ch3(net, train_iter, test_iter, loss, num_epochs, trainer,d2l\u001b[39m.\u001b[39;49mtry_gpu())\n",
      "\u001b[1;31mTypeError\u001b[0m: train_ch3() takes 6 positional arguments but 7 were given"
     ]
    }
   ],
   "source": [
    "train_iter, test_iter = d2l.load_data_fashion_mnist(batch_size)\n",
    "d2l.train_ch3(net, train_iter, test_iter, loss, num_epochs, trainer)"
   ]
  },
  {
   "cell_type": "markdown",
   "id": "d5570a6c",
   "metadata": {
    "origin_pos": 16
   },
   "source": [
    "## 小结\n",
    "\n",
    "* 我们可以使用高级API更简洁地实现多层感知机。\n",
    "* 对于相同的分类问题，多层感知机的实现与softmax回归的实现相同，只是多层感知机的实现里增加了带有激活函数的隐藏层。\n",
    "\n",
    "## 练习\n",
    "\n",
    "1. 尝试添加不同数量的隐藏层（也可以修改学习率），怎么样设置效果最好？\n",
    "1. 尝试不同的激活函数，哪个效果最好？\n",
    "1. 尝试不同的方案来初始化权重，什么方法效果最好？\n"
   ]
  },
  {
   "cell_type": "markdown",
   "id": "bdb3e82f",
   "metadata": {
    "origin_pos": 18,
    "tab": [
     "pytorch"
    ]
   },
   "source": [
    "[Discussions](https://discuss.d2l.ai/t/1802)\n"
   ]
  }
 ],
 "metadata": {
  "kernelspec": {
   "display_name": "python39",
   "language": "python",
   "name": "python3"
  },
  "language_info": {
   "codemirror_mode": {
    "name": "ipython",
    "version": 3
   },
   "file_extension": ".py",
   "mimetype": "text/x-python",
   "name": "python",
   "nbconvert_exporter": "python",
   "pygments_lexer": "ipython3",
   "version": "3.9.16"
  }
 },
 "nbformat": 4,
 "nbformat_minor": 5
}
